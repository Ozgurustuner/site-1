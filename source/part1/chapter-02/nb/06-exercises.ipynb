{
 "cells": [
  {
   "cell_type": "markdown",
   "metadata": {},
   "source": [
    "# Chapter 1 exercises\n",
    "\n",
    "## Problem set 1 - Getting started with Python\n",
    "\n",
    "Problems to be added later.\n",
    "\n",
    "## Problem set 2 - Lists and indices\n",
    "\n",
    "Problems to be added later.\n",
    "\n",
    "## Problem set 3 - Loops and conditional statements\n",
    "\n",
    "Problems to be added later.\n",
    "\n",
    "## Problem set 4 - Functions\n",
    "\n",
    "Problems to be added later."
   ]
  }
 ],
 "metadata": {
  "kernelspec": {
   "display_name": "Python 3",
   "language": "python",
   "name": "python3"
  },
  "language_info": {
   "codemirror_mode": {
    "name": "ipython",
    "version": 3
   },
   "file_extension": ".py",
   "mimetype": "text/x-python",
   "name": "python",
   "nbconvert_exporter": "python",
   "pygments_lexer": "ipython3",
   "version": "3.8.6"
  }
 },
 "nbformat": 4,
 "nbformat_minor": 4
}
