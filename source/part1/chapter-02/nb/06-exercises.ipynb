{
 "cells": [
  {
   "cell_type": "markdown",
   "metadata": {},
   "source": [
    "# Exercises"
   ]
  },
  {
   "cell_type": "markdown",
   "metadata": {},
   "source": [
    "## Exercise 2.1 - Getting started with Python\n",
    "\n",
    "The goal of this exercise is to print text like that below to the screen based on variable values you define.\n",
    "\n",
    "```\n",
    "My name is Dave and I give eating ice cream a score of 9 out of 10!\n",
    "My sleeping enjoyment rating is 8 / 10!\n",
    "Based on the factors above, my happiness rating is 8.5 out of 10 or 85.0 %!\n",
    "```\n",
    "For this exercise you should:\n",
    "\n",
    "- Create three variables: one integer value (whole number) for your ice cream rating, another integer for your sleeping rating, and a character string for your first name. \n",
    "- Calculate the average of the two ratings. Store the result in a variable for your happiness.\n",
    "- Find the data type of each of the variables you have defined. Are there any surprises?\n",
    "- Reproduce your version of the example text using the `print()` function and the variables you have defined. Note that you may need to be careful combining text and numbers!"
   ]
  },
  {
   "cell_type": "markdown",
   "metadata": {},
   "source": [
    "## Exercise 2.2 - Creating and changing lists\n",
    "\n",
    "Below are two tables of [FMI observation stations](http://en.ilmatieteenlaitos.fi/observation-stations) and the years in which they began operating.\n",
    "\n",
    "![](../img/exercise-2.2-tables.png)\n",
    "\n",
    "For this exercise you should:\n",
    "\n",
    "- Create two lists for the station names and first years of operation for the values in the table on the left only. Be sure to list the values in the order they appear in the table.\n",
    "- Modify the lists you just created to add the values from the table on the right, again keeping them in the same order.\n",
    "- Sort the two lists, sorting the first in alphabetical order and the second so that the most recent starting year is first\n",
    "    - Do you see any problems with how the lists have been sorted?\n",
    "    - Python has a function called `zip()` that might be helpful in solving the sorting issue. Search online to see whether you can find a way to use `zip()` to solve the problem with the two lists."
   ]
  },
  {
   "cell_type": "markdown",
   "metadata": {},
   "source": [
    "## Exercise 2.3 - Lists and index values\n",
    "\n",
    "| Month     | Temperature [°C] | Month     | Temperature [°C] | Month     | Temperature [°C] |\n",
    "| --------- | :--------------: | --------- | :--------------: | --------- | :--------------: |\n",
    "| January   | -3.5             | May       | 10.0             | September | 11.5             |\n",
    "| February  | -4.5             | June      | 15.0             | October   | 6.0              |\n",
    "| March     | -1.0             | July      | 18.0             | November  | 2.0              |\n",
    "| April     | 4.0              | August    | 16.0             | December  | -1.5             |\n",
    "\n",
    "_**Table 2.X**. [Monthly average temperatures recorded at the Helsinki Malmi airport](https://www.timeanddate.com/weather/finland/helsinki/climate)._\n",
    "\n",
    "For this exercise you should:\n",
    "\n",
    "- Create two lists with the months and their average temperatures.\n",
    "- Use a print statement to produce output like that below, where the months and temperatures are selected using index values in the corresponding lists.\n",
    "\n",
    "```\n",
    "The average temperature in Helsinki in March is -1.0\n",
    "```"
   ]
  },
  {
   "cell_type": "markdown",
   "metadata": {},
   "source": [
    "## Problem set 3 - Loops and conditional statements\n",
    "\n",
    "Problems to be added later."
   ]
  },
  {
   "cell_type": "markdown",
   "metadata": {},
   "source": [
    "## Problem set 4 - Functions\n",
    "\n",
    "Problems to be added later."
   ]
  }
 ],
 "metadata": {
  "kernelspec": {
   "display_name": "Python 3 (ipykernel)",
   "language": "python",
   "name": "python3"
  },
  "language_info": {
   "codemirror_mode": {
    "name": "ipython",
    "version": 3
   },
   "file_extension": ".py",
   "mimetype": "text/x-python",
   "name": "python",
   "nbconvert_exporter": "python",
   "pygments_lexer": "ipython3",
   "version": "3.9.7"
  }
 },
 "nbformat": 4,
 "nbformat_minor": 4
}
