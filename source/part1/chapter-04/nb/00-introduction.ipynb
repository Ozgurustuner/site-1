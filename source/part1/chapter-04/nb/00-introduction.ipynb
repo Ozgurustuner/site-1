{
 "cells": [
  {
   "cell_type": "markdown",
   "id": "bb871819-7798-46bb-b6bb-c488e1a1fdd3",
   "metadata": {},
   "source": [
    "# Python plotting libraries"
   ]
  },
  {
   "cell_type": "markdown",
   "id": "593c6ba2-c47f-44d8-8737-4778106fb762",
   "metadata": {},
   "source": [
    "![_**Figure 4.1**. Plotting libraries available in Python. Interactive version online at <https://pyviz.org/overviews/index.html>._](../img/python-plotting.png)\n",
    "\n",
    "_**Figure 4.1**. Plotting libraries available in Python. Interactive version online at <https://pyviz.org/overviews/index.html>._\n",
    "\n",
    "Python has many nice, useful libraries that can be used for plotting. In the figure above, you can see a number of the available plotting library options, along with how they relate to one another. Of the options above we would like to highlight the following:\n",
    "\n",
    "- [Matplotlib](https://matplotlib.org/) [^matplotlib]: Matplotlib is one of the most widely used Python plotting libraries, sometimes referred to as \"*the grand old man of Python plotting*\". Plot examples can be found in the [Matplotlib gallery](https://matplotlib.org/gallery.html).\n",
    "\n",
    "  - [Matplotlib Basemap](https://matplotlib.org/basemap/index.html) [^basemap]: The Matplotlib Basemap Toolkit is a plugin for visualizing maps in Python. Example plots available in the [Matplotlib basemap gallery](https://matplotlib.org/basemap/users/examples.html).\n",
    "  - [Seaborn](https://seaborn.pydata.org/) [^seaborn]: Seaborn is a high-level interface for drawing attractive statistical graphics that is built on top of Matplotlib. Example plots can be found in the [Seaborn gallery](https://seaborn.pydata.org/examples/index.html).\n",
    "\n",
    "- [Bokeh](https://docs.bokeh.org/en/latest/) [^bokeh]: Bokeh is a modern plotting library for static and interactive web-based plots including graphs, maps, and charts. Examples can be found in the [Bokeh gallery](https://docs.bokeh.org/en/latest/docs/gallery.html).\n",
    "- [Plotly](https://plotly.com/python/) [^plotly]: Similar in some ways to Bokeh, Plotly is a modern plotting library for static and interactive web-based plots. Some features are commercial. Example plots are available in the [Plotly gallery](https://plotly.com/python/basic-charts/).\n",
    "- [Dash](https://plotly.com/dash/) [^dash]: Dash is a Python framework for building analytical web applications. No JavaScript required.\n",
    "- [ggplot](https://yhat.github.io/ggpy/) [^ggplot]: ggplot is a Python plotting environment for those familiar with creating plots in R using ggplot2. You can use ggplot in Python too! Plot examples can be found in the [ggplot examples](https://yhat.github.io/ggpy/).\n",
    "- [HoloViews](https://holoviews.org/) [^holoviews]: and [GeoViews](https://geoviews.org/) [^geoviews]: HoloViews and GeoViews aim to let the data visualize itself. Learn more in the HoloViews introductory video at <https://www.youtube.com/watch?v=hNsR2H7Lrg0>.\n",
    "\n",
    "  - Both are modern and powerful visualization libraries built on top of Matplotlib and Bokeh that make exploring and visualizing your data quicker than ever before.\n",
    "  - HoloViews is designed for basic plotting. More information available in the [HoloViews tutorial](https://holoviews.org/Tutorials/index.html) and the [HoloViews example plots](https://holoviews.org/Examples/index.html).\n",
    "  - GeoViews is designed for creating nice and interactive maps. Examples can be found in the [GeoViews gallery](https://geoviews.org/gallery/index.html).\n",
    "\n",
    "You should explore the plotting galleries and examples of different visualization libraries above to learn what's possible to do in Python. As you will see, the plotting possibilities in Python are numerous and rich. To get started, we suggest starting by learning to use one that suits your needs best, and later extending your knowledge and skills to other visualization libraries as necessary."
   ]
  },
  {
   "cell_type": "markdown",
   "id": "88492595-c49f-429f-9c4f-7ede5ac94ab8",
   "metadata": {},
   "source": [
    "## Footnotes\n",
    "\n",
    "[^basemap]: <https://matplotlib.org/basemap/index.html>\n",
    "[^bokeh]: <https://docs.bokeh.org/en/latest/>\n",
    "[^dash]: <https://plotly.com/dash/>\n",
    "[^geoviews]: <https://geoviews.org/>\n",
    "[^ggplot]: <https://yhat.github.io/ggpy/>\n",
    "[^holoviews]: <https://holoviews.org/>\n",
    "[^matplotlib]: <https://matplotlib.org/>\n",
    "[^plotly]: <https://plotly.com/python>\n",
    "[^seaborn]: <https://seaborn.pydata.org>"
   ]
  }
 ],
 "metadata": {
  "kernelspec": {
   "display_name": "Python 3 (ipykernel)",
   "language": "python",
   "name": "python3"
  },
  "language_info": {
   "codemirror_mode": {
    "name": "ipython",
    "version": 3
   },
   "file_extension": ".py",
   "mimetype": "text/x-python",
   "name": "python",
   "nbconvert_exporter": "python",
   "pygments_lexer": "ipython3",
   "version": "3.9.7"
  }
 },
 "nbformat": 4,
 "nbformat_minor": 5
}
