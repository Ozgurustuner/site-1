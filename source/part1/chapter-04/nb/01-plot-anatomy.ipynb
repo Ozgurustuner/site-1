{
 "cells": [
  {
   "cell_type": "markdown",
   "id": "6a1bee5d-b16a-499e-9db3-11ed920c44ed",
   "metadata": {},
   "source": [
    "# Anatomy of a plot"
   ]
  },
  {
   "cell_type": "markdown",
   "id": "fac512bf-cc7c-4dca-bc29-d7baf4115edd",
   "metadata": {},
   "source": [
    "Before starting to visualize our data on a plot our data we need to address an obvious question: **What actually is a plot?** We will not go deep into the details of different types of plots (as it is not the purpose of this book), but rather we provide a brief introduction to different plots that can be created using Python and the (essential) elements of a plot.\n",
    "\n",
    "There are a variety of different kinds of plots (also known as graphs, charts, diagrams, etc.) available that have been designed to visually represent the characteristics of a dataset. Here is a list of several different types of plots that can be used to present different kinds of data. You can find more information about this plots online in Wikipedia, for example.\n",
    "\n",
    "- [Bar chart](https://en.wikipedia.org/wiki/Bar_chart)\n",
    "- [Histogram](https://en.wikipedia.org/wiki/Histogram)\n",
    "- [Scatter plot](https://en.wikipedia.org/wiki/Scatter_plot)\n",
    "- [Line chart](https://en.wikipedia.org/wiki/Line_chart)\n",
    "- [Scatter plot](https://en.wikipedia.org/wiki/Scatter_plot)\n",
    "- [Pie chart](https://en.wikipedia.org/wiki/Pie_chart)\n",
    "- [Box plot](https://en.wikipedia.org/wiki/Box_plot)\n",
    "- [Violin plot](https://en.wikipedia.org/wiki/Violin_plot)\n",
    "- [Dendrogram](https://en.wikipedia.org/wiki/Dendrogram)\n",
    "- [Chord diagram](https://en.wikipedia.org/wiki/Chord_diagram)\n",
    "- [Treemap](https://en.wikipedia.org/wiki/Treemap)\n",
    "- [Network chart](https://en.wikipedia.org/wiki/Network_chart)\n",
    "\n",
    "In spite of the large variety of types of plots, there are certain elements that are common for most of them (not all). Thus, it is useful to know at least the basic terminology since it makes it easier to find help and information from the internet when you start creating or modifying your own plots.\n",
    "\n",
    "Figure 4.2 illustrates different elements of a basic line plot.\n",
    "\n",
    "![_**Figure 4.2**. The basic elements of a plot. Image source: Tenkanen (2017)_](../img/basic-elements-of-plot.png)\n",
    "\n",
    "_**Figure 4.2**. The basic elements of a plot. Image source: Tenkanen (2017)_\n",
    "\n",
    "## Common plotting terminology\n",
    "\n",
    "These common terms may vary a bit depending on the plotting library that you use. For the list provided here we are using the typical terms for plotting in Matplotlib (see also Figure 4.2).\n",
    "\n",
    "| Term         | Description                                                                                                         |\n",
    "|--------------|---------------------------------------------------------------------------------------------------------------------|\n",
    "| *axis*       | Axis of the graph that are typically x, y and z (for 3D plots).                                                     |\n",
    "| *title*      | Title of the whole plot.                                                                                            |\n",
    "| *label*      | Name for the whole axis (e.g. xlabel or ylabel).                                                                    |\n",
    "| *legend*     | Legend for the plot.                                                                                                |\n",
    "| *tick label* | Text or values that are represented on the axis.                                                                    |\n",
    "| *symbol*     | Symbol for data point(s) (on a scatter plot) that can be presented with different symbol shapes/colors.             |\n",
    "| *size*       | Size of, for example, a point on a scatter plot. Also used for referring to the text sizes on a plot.               |\n",
    "| *linestyle*  | The style how the line should be drawn. Can be solid or dashed, for example.                                        |\n",
    "| *linewidth*  | The width of a line in a plot.                                                                                      |\n",
    "| *alpha*      | Transparency level of a filled element in a plot (values between 0.0 (fully transparent) to 1.0 (no trasnparency)). |\n",
    "| *tick(s)*    | Refers to the tick marks on a plot.                                                                                 |\n",
    "| *annotation* | Refers to the text added to a plot.                                                                                 |\n",
    "| *padding*    | The distance between a (axis/tick) label and the axis.                                                              | "
   ]
  }
 ],
 "metadata": {
  "kernelspec": {
   "display_name": "Python 3 (ipykernel)",
   "language": "python",
   "name": "python3"
  },
  "language_info": {
   "codemirror_mode": {
    "name": "ipython",
    "version": 3
   },
   "file_extension": ".py",
   "mimetype": "text/x-python",
   "name": "python",
   "nbconvert_exporter": "python",
   "pygments_lexer": "ipython3",
   "version": "3.8.11"
  }
 },
 "nbformat": 4,
 "nbformat_minor": 5
}
