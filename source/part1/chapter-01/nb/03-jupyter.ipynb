{
 "cells": [
  {
   "cell_type": "markdown",
   "id": "super-reasoning",
   "metadata": {},
   "source": [
    "# Jupyter notebooks"
   ]
  },
  {
   "cell_type": "markdown",
   "id": "guilty-handy",
   "metadata": {},
   "source": [
    "## The traditional coding environment\n",
    "\n",
    "The traditional approach to writing programs comprises writing the actual program in source code files and documenting the code either as text comments within the source code files or separately in rich text files or a website. While this approach works, there are drawbacks. Notably, documentation in source code files may be hard to find or access for non-programmers, and documentation "
   ]
  },
  {
   "cell_type": "markdown",
   "id": "dirty-warehouse",
   "metadata": {},
   "source": [
    "## Jupyter notebooks: Code and documentation combined\n",
    "\n",
    "Traditionally, programming would combine the program that is created as source code, and separate documentation about how the program works...\n",
    "\n",
    "![_**Figure 1.X**. Features of a Jupyter notebook._](../img/jupyter-notebook.png)\n",
    "\n",
    "_**Figure 1.X**. Features of a Jupyter notebook._\n",
    "\n",
    "Jupyter notebooks..."
   ]
  }
 ],
 "metadata": {
  "kernelspec": {
   "display_name": "Python 3",
   "language": "python",
   "name": "python3"
  },
  "language_info": {
   "codemirror_mode": {
    "name": "ipython",
    "version": 3
   },
   "file_extension": ".py",
   "mimetype": "text/x-python",
   "name": "python",
   "nbconvert_exporter": "python",
   "pygments_lexer": "ipython3",
   "version": "3.7.4"
  }
 },
 "nbformat": 4,
 "nbformat_minor": 5
}
