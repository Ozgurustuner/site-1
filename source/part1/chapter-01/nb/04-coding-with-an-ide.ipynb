{
 "cells": [
  {
   "cell_type": "markdown",
   "id": "vocational-retail",
   "metadata": {},
   "source": [
    "# IDEs and other coding environments"
   ]
  },
  {
   "cell_type": "markdown",
   "id": "consolidated-mozambique",
   "metadata": {},
   "source": [
    "## The Python interpreter\n",
    "\n",
    "![_**Figure 1.X**. The IPython console, an enhanced Python interpreter._](../img/python-console.png)\n",
    "\n",
    "_**Figure 1.X**. The IPython console, an enhanced Python interpreter._"
   ]
  },
  {
   "cell_type": "markdown",
   "id": "peaceful-washer",
   "metadata": {},
   "source": [
    "## Integrated development environments (IDEs)\n",
    "\n",
    "![_**Figure 1.X**. The PyCharm IDE._](../img/pycharm-ide.png)\n",
    "\n",
    "_**Figure 1.X**. The PyCharm IDE._"
   ]
  }
 ],
 "metadata": {
  "kernelspec": {
   "display_name": "Python 3",
   "language": "python",
   "name": "python3"
  },
  "language_info": {
   "codemirror_mode": {
    "name": "ipython",
    "version": 3
   },
   "file_extension": ".py",
   "mimetype": "text/x-python",
   "name": "python",
   "nbconvert_exporter": "python",
   "pygments_lexer": "ipython3",
   "version": "3.7.4"
  }
 },
 "nbformat": 4,
 "nbformat_minor": 5
}
