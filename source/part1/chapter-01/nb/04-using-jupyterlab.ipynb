{
 "cells": [
  {
   "cell_type": "markdown",
   "id": "collective-identity",
   "metadata": {},
   "source": [
    "# Using JupyterLab for writing code"
   ]
  },
  {
   "cell_type": "markdown",
   "id": "40d5e364-9271-400d-8c70-5dbf232546e4",
   "metadata": {},
   "source": [
    "[JupyterLab](https://jupyterlab.readthedocs.io/en/stable/getting_started/overview.html)[^JupyterLab]  is an open-source browser-based user interface for programming and doing data science. The JupyterLab interface consists of different components such as a file browser, terminal, image viewer, console, text editor, and so on (see Figures 1.13 and 1.14). Jupyter Notebooks (as described in the previous section) are documents that can be used and run inside the JupyterLab environment containing the computer code and rich text elements (such as figures, tables and links). Jupyter Notebooks are perfect for documenting a data science workflow in an interactive format. We use JupyterLab/Jupyter Notebooks as the default programming environment in this book. All of the book materials are available in a JupyterLab setting which you can start using immediately without any installations using Binder (see Preface for details).\n",
    "\n",
    "![_**Figure 1.13**. Basic view of JupyterLab._ ](../img/Binder_launcher.png)\n",
    "   \n",
    "_**Figure 1.13**. Basic view of JupyterLab._\n",
    "   \n",
    "\n",
    "![_**Figure 1.14**. A Jupyter Notebook open in JupyterLab._](../img/JupyterLab.png)\n",
    "\n",
    "_**Figure 1.14**. A Jupyter Notebook open in JupyterLab._"
   ]
  },
  {
   "cell_type": "markdown",
   "id": "4ea58a21-be57-4f2f-b953-e7d56a673081",
   "metadata": {},
   "source": [
    "## Footnotes\n",
    "\n",
    "[^JupyterLab]: <https://jupyterlab.readthedocs.io/en/stable/getting_started/overview.html>"
   ]
  }
 ],
 "metadata": {
  "kernelspec": {
   "display_name": "Python 3 (ipykernel)",
   "language": "python",
   "name": "python3"
  },
  "language_info": {
   "codemirror_mode": {
    "name": "ipython",
    "version": 3
   },
   "file_extension": ".py",
   "mimetype": "text/x-python",
   "name": "python",
   "nbconvert_exporter": "python",
   "pygments_lexer": "ipython3",
   "version": "3.9.7"
  }
 },
 "nbformat": 4,
 "nbformat_minor": 5
}
