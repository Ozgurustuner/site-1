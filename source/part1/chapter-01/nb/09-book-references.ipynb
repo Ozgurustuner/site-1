{
 "cells": [
  {
   "cell_type": "markdown",
   "metadata": {},
   "source": [
    "# References\n",
    "\n",
    "Bostroem, Azalee, Trevor Bekolay and Valentina Staneva (2016). Software Carpentry: Programming with Python. URL: https://github.com/swcarpentry/python-novice-inflammation, doi:10.5281/zenodo.57492.\n",
    "\n",
    "Liukas, Linda (2015). Helo Ruby: Adventures in Coding. *Feiwel & Friends*, 1st edition edition.\n",
    "\n",
    "McKinney, Wes (2017). Python for Data Analysis. *O’Reilly Media, Inc.*, North, Sebastopol, CA, 2nd edition edition.\n",
    "\n",
    "Zelle, John (2017). Python Programming: An Introduction to Computer Science. *Franklin, Beedle & Associates*, 3rd edition edition."
   ]
  }
 ],
 "metadata": {
  "kernelspec": {
   "display_name": "Python 3",
   "language": "python",
   "name": "python3"
  },
  "language_info": {
   "codemirror_mode": {
    "name": "ipython",
    "version": 3
   },
   "file_extension": ".py",
   "mimetype": "text/x-python",
   "name": "python",
   "nbconvert_exporter": "python",
   "pygments_lexer": "ipython3",
   "version": "3.8.6"
  }
 },
 "nbformat": 4,
 "nbformat_minor": 4
}
