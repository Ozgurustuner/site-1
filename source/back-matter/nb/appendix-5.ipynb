{
 "cells": [
  {
   "cell_type": "markdown",
   "id": "bcba608f-7a52-4a60-aa9f-0349fa2e589a",
   "metadata": {},
   "source": [
    "# Solutions to lesson questions\n",
    "\n",
    "Content to be added."
   ]
  }
 ],
 "metadata": {
  "kernelspec": {
   "display_name": "Python 3 (ipykernel)",
   "language": "python",
   "name": "python3"
  },
  "language_info": {
   "codemirror_mode": {
    "name": "ipython",
    "version": 3
   },
   "file_extension": ".py",
   "mimetype": "text/x-python",
   "name": "python",
   "nbconvert_exporter": "python",
   "pygments_lexer": "ipython3",
   "version": "3.9.7"
  }
 },
 "nbformat": 4,
 "nbformat_minor": 5
}
