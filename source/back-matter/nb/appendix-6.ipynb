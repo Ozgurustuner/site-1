{
 "cells": [
  {
   "cell_type": "markdown",
   "id": "f51de3ce-80e3-48eb-9326-94ea63751058",
   "metadata": {},
   "source": [
    "# Exercise solutions"
   ]
  },
  {
   "cell_type": "markdown",
   "id": "36d42ce0-a651-4615-9030-d4fe9a607656",
   "metadata": {},
   "source": [
    "## Chapter 2\n",
    "\n",
    "### Exercise 2.1\n",
    "\n",
    "```python\n",
    "# Define main variables\n",
    "ice_cream_rating = 9\n",
    "sleep_rating = 8\n",
    "name = \"Dave\"\n",
    "\n",
    "# Calculate happiness\n",
    "happiness_rating = (ice_cream_rating + sleep_rating) / 2\n",
    "\n",
    "# Print variable types\n",
    "print(type(ice_cream_rating))\n",
    "print(type(sleep_rating))\n",
    "print(type(name))\n",
    "print(type(happiness_rating))\n",
    "\n",
    "# Print formatted text\n",
    "print(\"My name is\", name, \"and I give eating ice cream a score of\", ice_cream_rating, \"out of 10!\")\n",
    "print(\"My sleeping enjoyment rating is\", sleep_rating, \"/ 10!\")\n",
    "print(\"Based on the factors above, my happiness rating is\", happiness_rating, \"or\", happiness_rating * 10, \"%!\")\n",
    "```\n",
    "\n",
    "### Exercise 2.2\n",
    "\n",
    "```python\n",
    "# Define left table lists\n",
    "station_names = [\"lighthouse\", \"Harmaja\", \"Suomenlinna aaltopoiju\", \"Kumpula\", \"Kaisaniemi\"]\n",
    "station_start_years = [2003, 1989, 2016, 2005, 1844]\n",
    "\n",
    "# Add values from table on the right\n",
    "station_names.append(\"Malmi airfield\")\n",
    "station_names.append(\"Vuosaari harbour\")\n",
    "station_names.append(\"Kaivopuisto\")\n",
    "station_start_years.append(1937)\n",
    "station_start_years.append(2012)\n",
    "station_start_years.append(1904)\n",
    "\n",
    "# Sort lists as directed\n",
    "station_names.sort()\n",
    "station_start_years.sort()\n",
    "station_start_years.reverse()\n",
    "\n",
    "# Problem: List values are no longer correctly linked for same index value\n",
    "```"
   ]
  },
  {
   "cell_type": "code",
   "execution_count": null,
   "id": "232cdcf0-d4c9-4f81-8a13-44d2e67f8287",
   "metadata": {},
   "outputs": [],
   "source": []
  }
 ],
 "metadata": {
  "kernelspec": {
   "display_name": "Python 3 (ipykernel)",
   "language": "python",
   "name": "python3"
  },
  "language_info": {
   "codemirror_mode": {
    "name": "ipython",
    "version": 3
   },
   "file_extension": ".py",
   "mimetype": "text/x-python",
   "name": "python",
   "nbconvert_exporter": "python",
   "pygments_lexer": "ipython3",
   "version": "3.9.7"
  }
 },
 "nbformat": 4,
 "nbformat_minor": 5
}
