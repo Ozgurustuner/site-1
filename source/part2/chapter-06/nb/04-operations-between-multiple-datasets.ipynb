{
 "cells": [
  {
   "cell_type": "markdown",
   "id": "e31ec805-f16c-4cc0-bb2e-c42797735c2e",
   "metadata": {},
   "source": [
    "# Operations between multiple datasets\n",
    "\n",
    "- Overlay analysis\n",
    "- Spatial join, nearest join\n",
    "- Selecting data based on spatial relationships\n",
    "- Distance operations\n",
    "- Spatial index"
   ]
  },
  {
   "cell_type": "code",
   "execution_count": null,
   "id": "b1f68054-38d5-4519-8897-90a7aa9bac26",
   "metadata": {},
   "outputs": [],
   "source": []
  }
 ],
 "metadata": {
  "kernelspec": {
   "display_name": "Python 3 (ipykernel)",
   "language": "python",
   "name": "python3"
  },
  "language_info": {
   "codemirror_mode": {
    "name": "ipython",
    "version": 3
   },
   "file_extension": ".py",
   "mimetype": "text/x-python",
   "name": "python",
   "nbconvert_exporter": "python",
   "pygments_lexer": "ipython3",
   "version": "3.9.7"
  }
 },
 "nbformat": 4,
 "nbformat_minor": 5
}
