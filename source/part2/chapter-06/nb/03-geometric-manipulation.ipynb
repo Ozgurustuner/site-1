{
 "cells": [
  {
   "cell_type": "markdown",
   "id": "9e87802f-2461-4371-b489-b9bbe58fc5cb",
   "metadata": {},
   "source": [
    "# Geometric data manipulations\n",
    "\n",
    "- Buffer\n",
    "- Centroid\n",
    "- Convex hull / bounding box / envelope\n",
    "- Unary union\n",
    "- Simplify?\n",
    "- Dissolving and merging geometries"
   ]
  },
  {
   "cell_type": "markdown",
   "id": "1eb5a35f",
   "metadata": {},
   "source": [
    "In this section we will use the Helsinki Region Travel Time Matrix data that constist of 13231 statistical grid squares (250m x 250m) to demonstrate some of the most common geometry manipulation functions available in geopandas. \n",
    "\n",
    "As the geometries in GeoDataFrames are eventually Shapely objects, we can use all of Shapely's tools for geometry manipulation directly via geopandas. \n",
    "\n",
    "## Centroid\n",
    "\n",
    "Extracting the centroid of geometric features is useful in a multitude of use cases. For example, the values in the Travel Time Matrix data set have originally been calculated from the center point of each grid square. We can find out the geometric centroid of each grid square in geopandas via the centroid-attribute:"
   ]
  },
  {
   "cell_type": "code",
   "execution_count": null,
   "id": "930604ce",
   "metadata": {},
   "outputs": [],
   "source": [
    "# ADD READ DATA\n",
    "data = gpd.read_file()"
   ]
  },
  {
   "cell_type": "code",
   "execution_count": null,
   "id": "13e2a48e",
   "metadata": {
    "lines_to_next_cell": 0
   },
   "outputs": [],
   "source": [
    "# Polygon centroids\n",
    "data.centroid"
   ]
  },
  {
   "cell_type": "markdown",
   "id": "efef7987",
   "metadata": {},
   "source": [
    "## Unary union\n",
    "\n",
    "## Convex hull, bounding box and envelope\n",
    "\n",
    "Convex hull refers to the smalles possible polygon that contains all objects in a collection. Alongside with the minimum bounding box, convex hull is a useful shape when aiming to describe the extent of your data.  \n",
    "\n",
    "Let's create a convex hull around our multi_point object:"
   ]
  },
  {
   "cell_type": "code",
   "execution_count": null,
   "id": "dd2eb312",
   "metadata": {},
   "outputs": [],
   "source": [
    "# Check input geometry\n",
    "multi_point"
   ]
  },
  {
   "cell_type": "code",
   "execution_count": null,
   "id": "cf1c1905",
   "metadata": {},
   "outputs": [],
   "source": [
    "# Convex Hull (smallest polygon around the geometry collection)\n",
    "multi_point.convex_hull"
   ]
  },
  {
   "cell_type": "code",
   "execution_count": null,
   "id": "90adeb3e",
   "metadata": {
    "lines_to_next_cell": 0
   },
   "outputs": [],
   "source": [
    "# Envelope (smalles rectangular polygon around the geometry collection):\n",
    "multi_point.envelope"
   ]
  },
  {
   "cell_type": "markdown",
   "id": "05e5f7e9",
   "metadata": {},
   "source": [
    "## Buffer\n",
    "\n",
    "## Dissolving and merging geometries\n",
    "\n",
    "Data aggregation refers to a process where we combine data into groups. When doing spatial data aggregation, we merge the geometries together into coarser units (based on some attribute), and can also calculate summary statistics for these combined geometries from the original, more detailed values. For example, suppose that we are interested in studying continents, but we only have country-level data like the country dataset. If we aggregate the data by continent, we would convert the country-level data into a continent-level dataset.\n",
    "\n",
    "In this section, we will aggregate our travel time data by car travel times (column `car_r_t`), i.e. the grid cells that have the same travel time to Railway Station will be merged together.\n",
    "\n",
    "- For doing the aggregation we will use a function called `dissolve()` that takes as input the column that will be used for conducting the aggregation:\n"
   ]
  },
  {
   "cell_type": "code",
   "execution_count": null,
   "id": "f1ddc1d7",
   "metadata": {},
   "outputs": [],
   "source": [
    "# Conduct the aggregation\n",
    "dissolved = intersection.dissolve(by=\"car_r_t\")\n",
    "\n",
    "# What did we get\n",
    "dissolved.head()"
   ]
  },
  {
   "cell_type": "markdown",
   "id": "152bde89",
   "metadata": {},
   "source": [
    "- Let's compare the number of cells in the layers before and after the aggregation:"
   ]
  },
  {
   "cell_type": "code",
   "execution_count": null,
   "id": "0976aa20",
   "metadata": {},
   "outputs": [],
   "source": [
    "print(\"Rows in original intersection GeoDataFrame:\", len(intersection))\n",
    "print(\"Rows in dissolved layer:\", len(dissolved))"
   ]
  },
  {
   "cell_type": "markdown",
   "id": "194b621b",
   "metadata": {},
   "source": [
    "Indeed the number of rows in our data has decreased and the Polygons were merged together.\n",
    "\n",
    "What actually happened here? Let's take a closer look. \n",
    "\n",
    "- Let's see what columns we have now in our GeoDataFrame:"
   ]
  },
  {
   "cell_type": "code",
   "execution_count": null,
   "id": "517500ed",
   "metadata": {},
   "outputs": [],
   "source": [
    "dissolved.columns"
   ]
  },
  {
   "cell_type": "markdown",
   "id": "c68b18fd",
   "metadata": {},
   "source": [
    "As we can see, the column that we used for conducting the aggregation (`car_r_t`) can not be found from the columns list anymore. What happened to it?\n",
    "\n",
    "- Let's take a look at the indices of our GeoDataFrame:"
   ]
  },
  {
   "cell_type": "code",
   "execution_count": null,
   "id": "32fa4a1c",
   "metadata": {},
   "outputs": [],
   "source": [
    "dissolved.index"
   ]
  },
  {
   "cell_type": "markdown",
   "id": "97133b03",
   "metadata": {},
   "source": [
    "Aha! Well now we understand where our column went. It is now used as index in our `dissolved` GeoDataFrame. \n",
    "\n",
    "- Now, we can for example select only such geometries from the layer that are for example exactly 15 minutes away from the Helsinki Railway Station:"
   ]
  },
  {
   "cell_type": "code",
   "execution_count": null,
   "id": "6aa6cf43",
   "metadata": {},
   "outputs": [],
   "source": [
    "# Select only geometries that are within 15 minutes away\n",
    "dissolved.loc[15]"
   ]
  },
  {
   "cell_type": "code",
   "execution_count": null,
   "id": "c8b12863",
   "metadata": {},
   "outputs": [],
   "source": [
    "# See the data type\n",
    "type(dissolved.loc[15])"
   ]
  },
  {
   "cell_type": "code",
   "execution_count": null,
   "id": "7c66bda8",
   "metadata": {},
   "outputs": [],
   "source": [
    "# See the data\n",
    "dissolved.loc[15].head()"
   ]
  },
  {
   "cell_type": "markdown",
   "id": "68918dff",
   "metadata": {},
   "source": [
    "As we can see, as a result, we have now a Pandas `Series` object containing basically one row from our original aggregated GeoDataFrame.\n",
    "\n",
    "Let's also visualize those 15 minute grid cells.\n",
    "\n",
    "- First, we need to convert the selected row back to a GeoDataFrame:"
   ]
  },
  {
   "cell_type": "code",
   "execution_count": null,
   "id": "d72a88c9",
   "metadata": {},
   "outputs": [],
   "source": [
    "# Create a GeoDataFrame\n",
    "selection = gpd.GeoDataFrame([dissolved.loc[15]], crs=dissolved.crs)"
   ]
  },
  {
   "cell_type": "markdown",
   "id": "772b207f",
   "metadata": {},
   "source": [
    "- Plot the selection on top of the entire grid:"
   ]
  },
  {
   "cell_type": "code",
   "execution_count": null,
   "id": "40045aa0",
   "metadata": {},
   "outputs": [],
   "source": [
    "# Plot all the grid cells, and the grid cells that are 15 minutes a way from the Railway Station\n",
    "ax = dissolved.plot(facecolor=\"gray\")\n",
    "selection.plot(ax=ax, facecolor=\"red\")"
   ]
  },
  {
   "cell_type": "markdown",
   "id": "43ae3595",
   "metadata": {},
   "source": [
    "## Simplifying geometries\n",
    "\n",
    "Sometimes it might be useful to be able to simplify geometries. This could be something to consider for example when you have very detailed spatial features that cover the whole world. If you make a map that covers the whole world, it is unnecessary to have really detailed geometries because it is simply impossible to see those small details from your map. Furthermore, it takes a long time to actually render a large quantity of features into a map. Here, we will see how it is possible to simplify geometric features in Python.\n",
    "\n",
    "As an example we will use data representing the Amazon river in South America, and simplify it's geometries.\n",
    "\n",
    "- Let's first read the data and see how the river looks like:"
   ]
  },
  {
   "cell_type": "code",
   "execution_count": null,
   "id": "aa9964f4",
   "metadata": {},
   "outputs": [],
   "source": [
    "import geopandas as gpd\n",
    "\n",
    "# File path\n",
    "fp = \"data/Amazon_river.shp\"\n",
    "data = gpd.read_file(fp)\n",
    "\n",
    "# Print crs\n",
    "print(data.crs)\n",
    "\n",
    "# Plot the river\n",
    "data.plot()"
   ]
  },
  {
   "cell_type": "markdown",
   "id": "e26624fc",
   "metadata": {},
   "source": [
    "The LineString that is presented here is quite detailed, so let's see how we can generalize them a bit. As we can see from the coordinate reference system, the data is projected in a metric system using [Mercator projection based on SIRGAS datum](http://spatialreference.org/ref/sr-org/7868/). \n",
    "\n",
    "- Generalization can be done easily by using a Shapely function called `.simplify()`. The `tolerance` parameter can be used to adjusts how much geometries should be generalized. **The tolerance value is tied to the coordinate system of the geometries**. Hence, the value we pass here is 20 000 **meters** (20 kilometers)."
   ]
  },
  {
   "cell_type": "code",
   "execution_count": null,
   "id": "d102a662",
   "metadata": {},
   "outputs": [],
   "source": [
    "# Generalize geometry\n",
    "data[\"geom_gen\"] = data.simplify(tolerance=20000)\n",
    "\n",
    "# Set geometry to be our new simlified geometry\n",
    "data = data.set_geometry(\"geom_gen\")\n",
    "\n",
    "# Plot\n",
    "data.plot()"
   ]
  },
  {
   "cell_type": "markdown",
   "id": "8a5a7dad",
   "metadata": {},
   "source": [
    "Nice! As a result, now we have simplified our LineString quite significantly as we can see from the map.\n",
    "\n",
    "\n"
   ]
  }
 ],
 "metadata": {
  "kernelspec": {
   "display_name": "Python 3 (ipykernel)",
   "language": "python",
   "name": "python3"
  },
  "language_info": {
   "codemirror_mode": {
    "name": "ipython",
    "version": 3
   },
   "file_extension": ".py",
   "mimetype": "text/x-python",
   "name": "python",
   "nbconvert_exporter": "python",
   "pygments_lexer": "ipython3",
   "version": "3.9.7"
  }
 },
 "nbformat": 4,
 "nbformat_minor": 5
}
