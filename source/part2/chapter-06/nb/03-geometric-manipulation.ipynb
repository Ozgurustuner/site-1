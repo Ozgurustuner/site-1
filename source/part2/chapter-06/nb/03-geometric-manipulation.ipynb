{
 "cells": [
  {
   "cell_type": "markdown",
   "id": "9e87802f-2461-4371-b489-b9bbe58fc5cb",
   "metadata": {},
   "source": [
    "# Geometric data manipulations\n",
    "\n",
    "- Buffer\n",
    "- Centroid\n",
    "- Convex hull / bounding box / envelope\n",
    "- Unary union\n",
    "- Simplify?\n",
    "- Dissolving and merging geometries\n",
    "- *(Directional operations?)*\n"
   ]
  },
  {
   "cell_type": "markdown",
   "id": "a4d9c261-9952-4e46-bb06-ad84374ffe74",
   "metadata": {},
   "source": []
  }
 ],
 "metadata": {
  "kernelspec": {
   "display_name": "Python 3 (ipykernel)",
   "language": "python",
   "name": "python3"
  },
  "language_info": {
   "codemirror_mode": {
    "name": "ipython",
    "version": 3
   },
   "file_extension": ".py",
   "mimetype": "text/x-python",
   "name": "python",
   "nbconvert_exporter": "python",
   "pygments_lexer": "ipython3",
   "version": "3.9.7"
  }
 },
 "nbformat": 4,
 "nbformat_minor": 5
}
