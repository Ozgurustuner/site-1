{
 "cells": [
  {
   "cell_type": "code",
   "execution_count": 1,
   "id": "993b5845-12cd-4119-a890-380efdca00bc",
   "metadata": {},
   "outputs": [],
   "source": [
    "import pandas as pd\n",
    "import pypistats\n",
    "import json\n",
    "import numpy as np\n",
    "import pyvis\n",
    "import palettable as palette\n",
    "from pyvis.network import Network\n"
   ]
  },
  {
   "cell_type": "markdown",
   "id": "e7d623a1-bc4b-424d-8e10-8e2744d7ad62",
   "metadata": {},
   "source": [
    "# Generate data"
   ]
  },
  {
   "cell_type": "code",
   "execution_count": 2,
   "id": "d33b82e4-fd07-475e-ad1c-5748fcdae04a",
   "metadata": {},
   "outputs": [],
   "source": [
    "# Load edges             \n",
    "from ecosystem_edges import edges\n",
    "edges = pd.DataFrame(edges)\n",
    "\n",
    "# Ensure no duplicates\n",
    "edges = edges.drop_duplicates()"
   ]
  },
  {
   "cell_type": "code",
   "execution_count": 3,
   "id": "bb51a86f-f346-4a94-bf0d-3039b341e100",
   "metadata": {},
   "outputs": [],
   "source": [
    "# Extract node list and assign URLs to PyPi\n",
    "pkgs = list(set(edges[\"from\"].to_list() + edges[\"to\"].to_list()))\n",
    "node_list = [{\"id\": pkg, \"category\": None, \"url\": f\"https://pypi.org/project/{pkg}/\"} for pkg in pkgs]\n",
    "nodes = pd.DataFrame(node_list)"
   ]
  },
  {
   "cell_type": "code",
   "execution_count": 4,
   "id": "e5afd6c2-12b0-40e2-b5ca-f7dc4c2645ee",
   "metadata": {},
   "outputs": [
    {
     "name": "stdout",
     "output_type": "stream",
     "text": [
      "GEOS\n"
     ]
    }
   ],
   "source": [
    "# Assign categories\n",
    "# ------------------\n",
    "\n",
    "# Load categories\n",
    "from ecosystem_categories import categories, no_distro, generic_core, gis_core, generic_visuals, not_active, pygis_core, fundamental_core, generic_visuals\n",
    "\n",
    "skipped = no_distro + not_active\n",
    "\n",
    "def get_subcategory(name, category, categories):\n",
    "    try:\n",
    "        if name in categories[category][\"vector\"]:\n",
    "            return \"vector\"\n",
    "        if name in categories[category][\"raster\"]:\n",
    "            return \"raster\"\n",
    "        if name in categories[category][\"generic\"]:\n",
    "            return \"generic\"\n",
    "    except:\n",
    "        print(name)\n",
    "    \n",
    "# Update categories\n",
    "for category, data in categories.items():\n",
    "    nodes.loc[nodes[\"id\"].isin(data[\"pkgs\"]), \"category\"] = category\n",
    "    \n",
    "nodes[\"downloads\"] = None\n",
    "    \n",
    "# Update downloads\n",
    "for idx, row in nodes.iterrows():\n",
    "    name = row[\"id\"]\n",
    "    category = row[\"category\"]\n",
    "    nodes.loc[idx, \"subcategory\"] = get_subcategory(name, category, categories)\n",
    "    \n",
    "    if name in no_distro:\n",
    "        continue\n",
    "    r = pypistats.recent(name, \"month\", format=\"json\")\n",
    "    downloads = json.loads(r)[\"data\"][\"last_month\"]\n",
    "    nodes.loc[idx, \"downloads\"] = downloads\n",
    "    \n",
    "nodes[\"log10_downloads\"] = np.log10(nodes[\"downloads\"].astype(float))\n",
    "nodes[\"log2_downloads\"] = np.log2(nodes[\"downloads\"].astype(float))"
   ]
  },
  {
   "cell_type": "markdown",
   "id": "94a80ba4-2d7c-4793-bf85-d23cfafa2bef",
   "metadata": {},
   "source": [
    "# Visualize with Pyvis"
   ]
  },
  {
   "cell_type": "code",
   "execution_count": 23,
   "id": "d480c9f9-2a0d-4145-b99e-3ea28dee0860",
   "metadata": {},
   "outputs": [],
   "source": [
    "# COLORS\n",
    "color_palette = palette.wesanderson.GrandBudapest5_5.hex_colors\n",
    "\n",
    "options = \"\"\"\n",
    "var options = {\n",
    "    \"nodes\": {\n",
    "        \"font\": {\n",
    "            \"multi\": \"html\",\n",
    "            \"bold\": \"16px arial black\"\n",
    "        }\n",
    "    }\n",
    "}\n",
    "\"\"\"\n",
    "\n",
    "def get_color(category):\n",
    "    # Color scheme\n",
    "    colors = {\"analysis / modelling\": color_palette[0],\n",
    "              \"core / data structures\": color_palette[1],\n",
    "              \"visualization\": color_palette[2],\n",
    "              \"data extraction / processing\": color_palette[3]}\n",
    "    return colors[category]\n",
    "\n",
    "def get_shape(name, nodes_df):\n",
    "    shapes = {\"vector\": \"dot\",\n",
    "              \"raster\": \"dot\", \n",
    "              \"generic\": \"dot\"}\n",
    "    \n",
    "    if name in gis_core or name in fundamental_core:\n",
    "        return \"star\"\n",
    "    \n",
    "    if name in generic_core or name in generic_visuals:\n",
    "        return \"diamond\"\n",
    "    \n",
    "    return shapes[nodes_df.loc[nodes_df[\"id\"]==name, \"subcategory\"].values[0]]\n",
    "\n",
    "def get_node_color(nodes, name):\n",
    "    if name in gis_core or name in fundamental_core:\n",
    "        return None\n",
    "    try:\n",
    "        return get_color(nodes.loc[nodes[\"id\"]==name][\"category\"].values[0])\n",
    "    except Exception as e:\n",
    "        print(name)\n",
    "        \n",
    "\n",
    "def get_node_size(nodes, name, size_column):\n",
    "    return nodes.loc[nodes[\"id\"]==name][size_column].values[0]\n",
    "\n",
    "\n",
    "#nt = Network('1000px', '1500px', notebook=True, bgcolor='#222222', font_color='white')\n",
    "nt = Network('1000px', '1500px', notebook=True, directed=True)\n",
    "nt.force_atlas_2based(central_gravity=0.02, overlap=0.3)\n",
    "\n",
    "# Add nodes\n",
    "for idx, node in nodes.iterrows():\n",
    "    name = node[\"id\"]\n",
    "    \n",
    "    if name in skipped:\n",
    "        continue\n",
    "    \n",
    "    url = node[\"url\"]\n",
    "    nt.add_node(n_id=name, label=name, title=f'<a href=\"{url}\" target=\"_blank\">{name}</a>', \n",
    "                size=get_node_size(nodes, name, \"log2_downloads\"), \n",
    "                color=get_node_color(nodes, name=name), \n",
    "                font={\"size\":24}, shape=get_shape(name, nodes))\n",
    "\n",
    "# Add nodes and edges\n",
    "for idx, edge in edges.iterrows():\n",
    "    source = edge[\"from\"]\n",
    "    target = edge[\"to\"]\n",
    "    \n",
    "    if source in skipped or target in skipped:\n",
    "        continue\n",
    "        \n",
    "    nt.add_edge(source, target, weight=2, color=\"grey\")\n",
    "\n",
    "# Add Legend Nodes\n",
    "step = 80\n",
    "x = -1900\n",
    "y = 200\n",
    "\n",
    "for i, key in enumerate(categories.keys()):\n",
    "    nt.add_node(n_id=i, group=key, label=key, size=150, physics=False, x=x, y=f\"{y + i*step}px\", shape=\"box\", widthConstraint=300, font={\"size\":30, \"color\": \"white\"},\n",
    "               color=get_color(key)) \n",
    "\n",
    "\n",
    "# Add legend for symbols\n",
    "i+=1\n",
    "nt.add_node(n_id=i, label=\"Python GIS library\", size=20, physics=False, x=x, y=f\"{y + i*step}px\", shape=\"dot\", color=\"grey\", font={\"size\":30}) \n",
    "i+=1\n",
    "nt.add_node(n_id=i, label=\"Fundamental underlying\\nC/C++ library\", size=20, physics=False, x=x, y=f\"{y + i*step*1.05}px\", shape=\"star\", color=\"grey\", font={\"size\":30}) \n",
    "i+=1\n",
    "nt.add_node(n_id=i, label=\"Generic library\\nnot specific to GIS\", size=20, physics=False, x=x, y=f\"{y + i*(step*1.15)}px\", shape=\"diamond\", color=\"grey\", font={\"size\":30}) \n",
    "\n"
   ]
  },
  {
   "cell_type": "code",
   "execution_count": 26,
   "id": "440e8742-a0dd-45ce-b3b5-83d11c968258",
   "metadata": {},
   "outputs": [
    {
     "data": {
      "text/plain": [
       "123"
      ]
     },
     "execution_count": 26,
     "metadata": {},
     "output_type": "execute_result"
    }
   ],
   "source": [
    "len(nodes) - len(skipped)"
   ]
  },
  {
   "cell_type": "code",
   "execution_count": 24,
   "id": "51a83fd6-9455-49ad-80fd-b49dff7612ab",
   "metadata": {
    "tags": []
   },
   "outputs": [
    {
     "data": {
      "text/html": [
       "\n",
       "        <iframe\n",
       "            width=\"1500px\"\n",
       "            height=\"1000px\"\n",
       "            src=\"Python-ecosystem.html\"\n",
       "            frameborder=\"0\"\n",
       "            allowfullscreen\n",
       "            \n",
       "        ></iframe>\n",
       "        "
      ],
      "text/plain": [
       "<IPython.lib.display.IFrame at 0x7fe7d765f460>"
      ]
     },
     "execution_count": 24,
     "metadata": {},
     "output_type": "execute_result"
    }
   ],
   "source": [
    "#nt.show_buttons(filter_=['physics'])\n",
    "nt.show(\"Python-ecosystem.html\")\n"
   ]
  },
  {
   "cell_type": "code",
   "execution_count": null,
   "id": "1f1d0a33-4792-4bcc-9911-0f4724ec50a3",
   "metadata": {},
   "outputs": [],
   "source": []
  }
 ],
 "metadata": {
  "kernelspec": {
   "display_name": "Python 3 (ipykernel)",
   "language": "python",
   "name": "python3"
  },
  "language_info": {
   "codemirror_mode": {
    "name": "ipython",
    "version": 3
   },
   "file_extension": ".py",
   "mimetype": "text/x-python",
   "name": "python",
   "nbconvert_exporter": "python",
   "pygments_lexer": "ipython3",
   "version": "3.9.7"
  }
 },
 "nbformat": 4,
 "nbformat_minor": 5
}
