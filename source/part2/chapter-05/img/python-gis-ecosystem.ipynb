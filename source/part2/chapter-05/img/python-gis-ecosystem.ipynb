{
 "cells": [
  {
   "cell_type": "code",
   "execution_count": 1,
   "id": "993b5845-12cd-4119-a890-380efdca00bc",
   "metadata": {},
   "outputs": [],
   "source": [
    "import pandas as pd\n",
    "import pypistats\n",
    "import json\n",
    "import numpy as np\n",
    "import pyvis\n",
    "import palettable as palette\n",
    "from pyvis.network import Network\n"
   ]
  },
  {
   "cell_type": "markdown",
   "id": "e7d623a1-bc4b-424d-8e10-8e2744d7ad62",
   "metadata": {},
   "source": [
    "# Generate data"
   ]
  },
  {
   "cell_type": "code",
   "execution_count": 2,
   "id": "d33b82e4-fd07-475e-ad1c-5748fcdae04a",
   "metadata": {},
   "outputs": [],
   "source": [
    "# Load edges             \n",
    "from ecosystem_edges import edges\n",
    "edges = pd.DataFrame(edges)"
   ]
  },
  {
   "cell_type": "code",
   "execution_count": 3,
   "id": "bb51a86f-f346-4a94-bf0d-3039b341e100",
   "metadata": {},
   "outputs": [],
   "source": [
    "# Extract node list and assign URLs to PyPi\n",
    "pkgs = list(set(edges[\"from\"].to_list() + edges[\"to\"].to_list()))\n",
    "node_list = [{\"id\": pkg, \"category\": None, \"url\": f\"https://pypi.org/project/{pkg}/\"} for pkg in pkgs]\n",
    "nodes = pd.DataFrame(node_list)"
   ]
  },
  {
   "cell_type": "code",
   "execution_count": 5,
   "id": "e5afd6c2-12b0-40e2-b5ca-f7dc4c2645ee",
   "metadata": {},
   "outputs": [],
   "source": [
    "# Assign categories\n",
    "# ------------------\n",
    "\n",
    "# Load categories\n",
    "from ecosystem_categories import categories\n",
    "\n",
    "# Update categories\n",
    "for category, data in categories.items():\n",
    "    nodes.loc[nodes[\"id\"].isin(data[\"pkgs\"]), \"category\"] = category\n",
    "    \n",
    "nodes[\"downloads\"] = None\n",
    "    \n",
    "# Update downloads\n",
    "for idx, row in nodes.iterrows():\n",
    "    r = pypistats.recent(row[\"id\"], \"month\", format=\"json\")\n",
    "    downloads = json.loads(r)[\"data\"][\"last_month\"]\n",
    "    nodes.loc[idx, \"downloads\"] = downloads\n",
    "    \n",
    "nodes[\"log10_downloads\"] = np.log10(nodes[\"downloads\"].astype(float))\n",
    "nodes[\"log2_downloads\"] = np.log2(nodes[\"downloads\"].astype(float))"
   ]
  },
  {
   "cell_type": "markdown",
   "id": "94a80ba4-2d7c-4793-bf85-d23cfafa2bef",
   "metadata": {},
   "source": [
    "# Visualize with Pyvis"
   ]
  },
  {
   "cell_type": "code",
   "execution_count": null,
   "id": "d480c9f9-2a0d-4145-b99e-3ea28dee0860",
   "metadata": {},
   "outputs": [],
   "source": [
    "# COLORS\n",
    "color_palette = palette.wesanderson.GrandBudapest5_5.hex_colors\n",
    "\n",
    "options = \"\"\"\n",
    "var options = {\n",
    "    \"nodes\": {\n",
    "        \"font\": {\n",
    "            \"multi\": \"html\",\n",
    "            \"bold\": \"16px arial black\"\n",
    "        }\n",
    "    }\n",
    "}\n",
    "\"\"\"\n",
    "\n",
    "def get_color(category):\n",
    "    # Color scheme\n",
    "    colors = {\"analysis / modelling\": color_palette[0],\n",
    "              \"core / data structures\": color_palette[1],\n",
    "              \"visualization\": color_palette[2],\n",
    "              \"data extraction / processing\": color_palette[3]}\n",
    "    return colors[category]\n",
    "\n",
    "def get_node_color(nodes, name):\n",
    "    try:\n",
    "        return get_color(nodes.loc[nodes[\"id\"]==name][\"category\"].values[0])\n",
    "    except Exception as e:\n",
    "        print(name)\n",
    "        \n",
    "\n",
    "def get_node_size(nodes, name, size_column):\n",
    "    return nodes.loc[nodes[\"id\"]==name][size_column].values[0]\n",
    "\n",
    "\n",
    "#nt = Network('1000px', '1500px', notebook=True, bgcolor='#222222', font_color='white')\n",
    "nt = Network('1000px', '1500px', notebook=True)\n",
    "\n",
    "\n",
    "# Add nodes and edges\n",
    "for idx, edge in edges.iterrows():\n",
    "    source = edge[\"from\"]\n",
    "    target = edge[\"to\"]\n",
    "    nt.add_node(source, source, title=f\"<b>{source}</b>\", size=get_node_size(nodes, source, \"log2_downloads\"), color=get_node_color(nodes, name=source), font={\"size\":16})\n",
    "    nt.add_node(target, target, title=f\"<b>{source}</b>\", size=get_node_size(nodes, target, \"log2_downloads\"), color=get_node_color(nodes, name=target), font={\"size\":16})\n",
    "    if source == \"pysal\" and target == \"geopandas\":\n",
    "        nt.add_edge(source, target, weight=2, color=\"grey\")\n",
    "    else:\n",
    "        nt.add_edge(source, target, weight=2, color=\"grey\")\n",
    "\n",
    "# Add Legend Nodes\n",
    "step = 50\n",
    "x = -1000\n",
    "y = 200\n",
    "\n",
    "for i, key in enumerate(categories.keys()):\n",
    "    nt.add_node(n_id=i, group=key, label=key, size=80, physics=False, x=x, y=f\"{y + i*step}px\", shape=\"box\", widthConstraint=200, font={\"size\":16, \"color\": \"white\"},\n",
    "               color=get_color(key)) \n",
    "\n"
   ]
  },
  {
   "cell_type": "code",
   "execution_count": null,
   "id": "51a83fd6-9455-49ad-80fd-b49dff7612ab",
   "metadata": {},
   "outputs": [],
   "source": [
    "\n",
    "#nt.force_atlas_2based(gravity=100, central_gravity=0.9, spring_length=200)\n",
    "nt.set_options(options)\n",
    "#nt.show_buttons(filter_=['physics'])\n",
    "nt.show(\"Python-ecosystem.html\")\n"
   ]
  },
  {
   "cell_type": "code",
   "execution_count": null,
   "id": "1f1d0a33-4792-4bcc-9911-0f4724ec50a3",
   "metadata": {},
   "outputs": [],
   "source": []
  }
 ],
 "metadata": {
  "kernelspec": {
   "display_name": "Python 3 (ipykernel)",
   "language": "python",
   "name": "python3"
  },
  "language_info": {
   "codemirror_mode": {
    "name": "ipython",
    "version": 3
   },
   "file_extension": ".py",
   "mimetype": "text/x-python",
   "name": "python",
   "nbconvert_exporter": "python",
   "pygments_lexer": "ipython3",
   "version": "3.9.7"
  }
 },
 "nbformat": 4,
 "nbformat_minor": 5
}
