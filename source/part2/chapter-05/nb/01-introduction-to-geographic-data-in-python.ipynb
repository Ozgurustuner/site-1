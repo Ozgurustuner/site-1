{
 "cells": [
  {
   "cell_type": "markdown",
   "id": "afa30bef-3327-4d7e-a277-1abd780faf0d",
   "metadata": {},
   "source": [
    "# Introduction to geographic data in Python\n",
    "\n",
    "How do we represent geographic features such as roads and buildings or lakes and mountains on a computer? How can we analyze spatial relations between these features? How can we link abstract geometric objects to actual locations on the Earth? What is the difference between geographic and projected coordinate reference systems? How can we automate all of this using Python? This chapter introduces you to the basic concepts and approaches related to Geographic Information Systems (GIS) and spatial data analysis. Geographers and GIS professionals might already be familiar with most of these concepts, but we hope this section helps beginners to grasp the basic concepts essential to understad the approached presented in this part of the book.\n",
    "\n"
   ]
  },
  {
   "cell_type": "markdown",
   "id": "d0ded95d-2b4e-4699-8718-193722ff93c4",
   "metadata": {},
   "source": [
    "## Ways to represent spatial data \n",
    "\n",
    "- Division between vector and raster data\n",
    "- Points, Lines, Polygons, Fields"
   ]
  },
  {
   "cell_type": "markdown",
   "id": "86235626-fb07-468e-82dc-c513b25e4eed",
   "metadata": {},
   "source": [
    "## Core Python libraries for working with spatial data\n",
    "\n",
    "- Introduce core libraries"
   ]
  },
  {
   "cell_type": "markdown",
   "id": "ae11b0ac-f43c-44e4-8d57-2e8158b7689b",
   "metadata": {},
   "source": [
    "## Data models for representing geographic information on a computer\n",
    "\n",
    "- Points\n",
    "- Lines\n",
    "- Areas (Polygons)\n",
    "- Collections\n",
    "- Box\n",
    "- Sidenote: storing geometry into WKT/WKB\n",
    "- Surface / field:\n",
    "  - Raster\n",
    "  - TIN/Voronoi (tesseleations)\n",
    "  - Hexagon (H3)\n",
    "- Networks\n",
    "  "
   ]
  },
  {
   "cell_type": "code",
   "execution_count": null,
   "id": "5963c845-c0a8-4a5a-891d-6d8e266e2a98",
   "metadata": {},
   "outputs": [],
   "source": []
  }
 ],
 "metadata": {
  "kernelspec": {
   "display_name": "Python 3 (ipykernel)",
   "language": "python",
   "name": "python3"
  },
  "language_info": {
   "codemirror_mode": {
    "name": "ipython",
    "version": 3
   },
   "file_extension": ".py",
   "mimetype": "text/x-python",
   "name": "python",
   "nbconvert_exporter": "python",
   "pygments_lexer": "ipython3",
   "version": "3.9.7"
  }
 },
 "nbformat": 4,
 "nbformat_minor": 5
}
