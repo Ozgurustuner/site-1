{
 "cells": [
  {
   "cell_type": "markdown",
   "id": "4fe723be",
   "metadata": {},
   "source": [
    "# Essentials: What is special about geographic data?\n",
    "\n",
    "Here we introduce basic GIS concepts for beginners.\n",
    "\n",
    "**This section is under construction.**\n",
    "\n",
    "*Draft Intro text*:\n",
    "\n",
    "How do we represent geographic features such as roads and buildings or lakes and mountains on a computer? How can we analyze spatial relations between these features? How can we link abstract geometric objects to actual locations on the Earth? What is the difference between geographic and projected coordinate reference systems? How can we automate all this using Python?\n",
    "\n",
    "This chapter introduces you to the basic concepts and approaches related to Geographic Information Systems (GIS) and spatial data analysis. Geographers and GIS professionals might already be familiar with most of these concepts, but we hope this section helps beginners to grasp the basic concepts essential to understad the approached presented in this part of the book. \n",
    "\n",
    "*Topics to cover*:\n",
    "\n",
    "- Spatial data model\n",
    "- Coordinate reference systems\n",
    "- Geometric operations\n",
    "- Spatial relationships (map algebra, overlay analysis, etc.)\n",
    "- Distance operations\n",
    "- Directional operations\n",
    "\n"
   ]
  },
  {
   "cell_type": "code",
   "execution_count": null,
   "id": "54cdea70",
   "metadata": {},
   "outputs": [],
   "source": []
  }
 ],
 "metadata": {
  "kernelspec": {
   "display_name": "Python 3",
   "language": "python",
   "name": "python3"
  },
  "language_info": {
   "codemirror_mode": {
    "name": "ipython",
    "version": 3
   },
   "file_extension": ".py",
   "mimetype": "text/x-python",
   "name": "python",
   "nbconvert_exporter": "python",
   "pygments_lexer": "ipython3",
   "version": "3.8.8"
  }
 },
 "nbformat": 4,
 "nbformat_minor": 5
}
