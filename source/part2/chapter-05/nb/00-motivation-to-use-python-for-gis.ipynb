{
 "cells": [
  {
   "cell_type": "markdown",
   "id": "735a2f13-8070-4e89-aae3-51f65d4fa48b",
   "metadata": {},
   "source": [
    "# Motivation: Why to use Python for geographic data analysis?\n",
    "\n",
    "Now that you are familiar with the basics of Python programming and data analysis using pandas, it is time to apply those skills to geographic data analysis. In this part of the book, you will learn how to deal with spatial data and analyze it using Python and various libraries that have been developed for GIS-related tasks."
   ]
  },
  {
   "cell_type": "markdown",
   "id": "64843327-91ba-47b1-89cd-4fab74a963aa",
   "metadata": {},
   "source": [
    "Python is extremely useful language to learn if you are interested in geographic data analysis (or GIS as it is often called). Many (if not most) of the various GIS softwares (such as ArcGIS, QGIS, PostGIS etc.) provide an interface to do analysis using Python scripting. In this book, we will focus on doing geoprocessing and geographic data analysis without any third party softwares, such as ESRI's ArcGIS. Why? There are several reasons for doing GIS using Python without any additional software:\n",
    "\n",
    "- Everything is free: you don’t need to buy a license for using the tools\n",
    "- You have an extensive ecosystem of libraries and tools: you can do almost anything with spatial data. In fact, there is an enormous geospatial industry who are heavily relying on open source Python libraries.\n",
    "- Python is highly efficient: used for analysing big (and small) geospatial data\n",
    "- Python is highly flexible: supports hundreds of spatial data formats (most likely many which you, or us, have never heard of)\n",
    "- Python allows to mix and match various libraries: You can combine different libraries and methodological approaches together and create sophisticated analytical pipelines \n",
    "- You will learn and understand more deeply how different geoprocessing operations work\n",
    "- Using Python (or any other open-source programming language) supports open source softwares/codes and open science by making it possible for everyone to reproduce your work, free-of-charge.\n",
    "- Plug-in and chain different third-party softwares to build e.g. a fancy web-GIS applications as you want (using e.g. KeplerGL, Dask or GeoDjango with PostGIS as a back-end)"
   ]
  },
  {
   "cell_type": "code",
   "execution_count": null,
   "id": "884ca8e5-4d85-4a7d-b0a9-4d4a1b21384e",
   "metadata": {},
   "outputs": [],
   "source": []
  }
 ],
 "metadata": {
  "kernelspec": {
   "display_name": "Python 3 (ipykernel)",
   "language": "python",
   "name": "python3"
  },
  "language_info": {
   "codemirror_mode": {
    "name": "ipython",
    "version": 3
   },
   "file_extension": ".py",
   "mimetype": "text/x-python",
   "name": "python",
   "nbconvert_exporter": "python",
   "pygments_lexer": "ipython3",
   "version": "3.9.7"
  }
 },
 "nbformat": 4,
 "nbformat_minor": 5
}
