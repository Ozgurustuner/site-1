{
 "cells": [
  {
   "cell_type": "markdown",
   "id": "ba44af28-34b7-484d-a6f7-27e45053f597",
   "metadata": {},
   "source": [
    "# Raster operations between multiple layers\n",
    "\n"
   ]
  },
  {
   "cell_type": "markdown",
   "id": "c2e246fa-dfb2-4aaa-aab0-d18d38a2f0da",
   "metadata": {},
   "source": []
  }
 ],
 "metadata": {
  "kernelspec": {
   "display_name": "Python 3 (ipykernel)",
   "language": "python",
   "name": "python3"
  },
  "language_info": {
   "codemirror_mode": {
    "name": "ipython",
    "version": 3
   },
   "file_extension": ".py",
   "mimetype": "text/x-python",
   "name": "python",
   "nbconvert_exporter": "python",
   "pygments_lexer": "ipython3",
   "version": "3.9.7"
  }
 },
 "nbformat": 4,
 "nbformat_minor": 5
}
